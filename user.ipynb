{
 "cells": [
  {
   "cell_type": "code",
   "execution_count": 4,
   "id": "1b1f65de-5f7f-4616-af80-d840ec2addd2",
   "metadata": {
    "tags": [
     "remove-input"
    ]
   },
   "outputs": [],
   "source": [
    "# custom\n",
    "from widget_ui import *\n",
    "from xlsx_document import *\n",
    "from database import *\n",
    "\n",
    "db = DB()\n",
    "db.start_poll()"
   ]
  },
  {
   "cell_type": "markdown",
   "id": "f486114a-5e51-4aa3-b4d2-244b74832b54",
   "metadata": {},
   "source": [
    "## Submit Feedback Form\n",
    "\n",
    "Fill the form and upload the feedback document in Word format"
   ]
  },
  {
   "cell_type": "code",
   "execution_count": 8,
   "id": "06bcb63a-dd96-4bb8-ad87-08316595306a",
   "metadata": {
    "tags": [
     "remove-input"
    ]
   },
   "outputs": [
    {
     "data": {
      "application/vnd.jupyter.widget-view+json": {
       "model_id": "000d6cd96602439cba34f810f009b987",
       "version_major": 2,
       "version_minor": 0
      },
      "text/plain": [
       "Output()"
      ]
     },
     "metadata": {},
     "output_type": "display_data"
    },
    {
     "data": {
      "application/vnd.jupyter.widget-view+json": {
       "model_id": "0b7dddb753b44ad2bad9cc9b099d700a",
       "version_major": 2,
       "version_minor": 0
      },
      "text/plain": [
       "Text(value='', description='First Name:', placeholder='First Name')"
      ]
     },
     "metadata": {},
     "output_type": "display_data"
    },
    {
     "data": {
      "application/vnd.jupyter.widget-view+json": {
       "model_id": "7efe0767fe6f4874ad71ab5d0cc60094",
       "version_major": 2,
       "version_minor": 0
      },
      "text/plain": [
       "Text(value='', description='Last Name:', placeholder='Last Name')"
      ]
     },
     "metadata": {},
     "output_type": "display_data"
    },
    {
     "data": {
      "application/vnd.jupyter.widget-view+json": {
       "model_id": "7176cb813e194512afcdffabf1949e0a",
       "version_major": 2,
       "version_minor": 0
      },
      "text/plain": [
       "Dropdown(description='Course Title:', options=('', 'Test 101', 'SP400', 'Data Science 101', 'test101', 'Other'…"
      ]
     },
     "metadata": {},
     "output_type": "display_data"
    },
    {
     "data": {
      "application/vnd.jupyter.widget-view+json": {
       "model_id": "beabfb5c672b40e49334c1f2cde6b43c",
       "version_major": 2,
       "version_minor": 0
      },
      "text/plain": [
       "FileUpload(value={}, accept='.docx', description='Upload')"
      ]
     },
     "metadata": {},
     "output_type": "display_data"
    },
    {
     "data": {
      "application/vnd.jupyter.widget-view+json": {
       "model_id": "d99fd5621c55424aab83f72bd94113e2",
       "version_major": 2,
       "version_minor": 0
      },
      "text/plain": [
       "Button(description='Submit', style=ButtonStyle())"
      ]
     },
     "metadata": {},
     "output_type": "display_data"
    },
    {
     "data": {
      "application/vnd.jupyter.widget-view+json": {
       "model_id": "7367d9f00ee447fe811dd52c50d11cee",
       "version_major": 2,
       "version_minor": 0
      },
      "text/plain": [
       "HTML(value='')"
      ]
     },
     "metadata": {},
     "output_type": "display_data"
    }
   ],
   "source": [
    "SubmitDocxUI(db=db).display()"
   ]
  }
 ],
 "metadata": {
  "kernelspec": {
   "display_name": "f101_auto",
   "language": "python",
   "name": "f101_auto"
  },
  "language_info": {
   "codemirror_mode": {
    "name": "ipython",
    "version": 3
   },
   "file_extension": ".py",
   "mimetype": "text/x-python",
   "name": "python",
   "nbconvert_exporter": "python",
   "pygments_lexer": "ipython3",
   "version": "3.9.6"
  }
 },
 "nbformat": 4,
 "nbformat_minor": 5
}
