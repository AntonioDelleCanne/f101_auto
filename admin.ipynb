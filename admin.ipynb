{
 "cells": [
  {
   "cell_type": "code",
   "execution_count": 1,
   "id": "1f6c256f-db9e-4f72-8479-62c9f001fe92",
   "metadata": {
    "tags": [
     "remove-input"
    ]
   },
   "outputs": [],
   "source": [
    "# custom\n",
    "from widget_ui import *\n",
    "from xlsx_document import *\n",
    "from database import *\n",
    "\n",
    "db = DB()\n",
    "db.start_poll()"
   ]
  },
  {
   "cell_type": "markdown",
   "id": "fd4f37ad-a674-436f-819e-ddf821136946",
   "metadata": {},
   "source": [
    "## Download Excel"
   ]
  },
  {
   "cell_type": "code",
   "execution_count": 2,
   "id": "9bee7969-c22b-41a2-8207-028af89523e0",
   "metadata": {
    "tags": [
     "remove-input"
    ]
   },
   "outputs": [
    {
     "data": {
      "application/vnd.jupyter.widget-view+json": {
       "model_id": "2285f0a2eb3149c099a6607f6661b48b",
       "version_major": 2,
       "version_minor": 0
      },
      "text/plain": [
       "Output()"
      ]
     },
     "metadata": {},
     "output_type": "display_data"
    },
    {
     "data": {
      "application/vnd.jupyter.widget-view+json": {
       "model_id": "95c1a5e617fa4f418e41baf4b703b774",
       "version_major": 2,
       "version_minor": 0
      },
      "text/plain": [
       "HTML(value='<html>\\n        <head>\\n        <meta name=\"viewport\" content=\"width=device-width, initial-scale=1…"
      ]
     },
     "metadata": {},
     "output_type": "display_data"
    }
   ],
   "source": [
    "DownloadButton(db=db).display()"
   ]
  },
  {
   "cell_type": "markdown",
   "id": "d32bfa36-d05b-4d11-b505-23015ef0260d",
   "metadata": {},
   "source": [
    "## Add course"
   ]
  },
  {
   "cell_type": "code",
   "execution_count": 4,
   "id": "7eddf92a-2ca5-4226-b950-6438ffb17325",
   "metadata": {
    "tags": [
     "remove-input"
    ]
   },
   "outputs": [
    {
     "data": {
      "application/vnd.jupyter.widget-view+json": {
       "model_id": "17c9847c81b84d44a4cd9cca13b2b678",
       "version_major": 2,
       "version_minor": 0
      },
      "text/plain": [
       "Output()"
      ]
     },
     "metadata": {},
     "output_type": "display_data"
    },
    {
     "data": {
      "application/vnd.jupyter.widget-view+json": {
       "model_id": "9d16e419cb614c809465e782e35fa9a3",
       "version_major": 2,
       "version_minor": 0
      },
      "text/plain": [
       "Text(value='', description='New Course', placeholder='New Course Name')"
      ]
     },
     "metadata": {},
     "output_type": "display_data"
    },
    {
     "data": {
      "application/vnd.jupyter.widget-view+json": {
       "model_id": "b7ec2bbe11fb4b888998f0923c8d307e",
       "version_major": 2,
       "version_minor": 0
      },
      "text/plain": [
       "Button(description='Submit', style=ButtonStyle())"
      ]
     },
     "metadata": {},
     "output_type": "display_data"
    },
    {
     "data": {
      "application/vnd.jupyter.widget-view+json": {
       "model_id": "046abb8adb1c47d9a3d6cc32bacc8b90",
       "version_major": 2,
       "version_minor": 0
      },
      "text/plain": [
       "HTML(value='')"
      ]
     },
     "metadata": {},
     "output_type": "display_data"
    }
   ],
   "source": [
    "AddCourseUI(db=db).display()"
   ]
  },
  {
   "cell_type": "markdown",
   "id": "c351b6d5-2656-43df-a151-5d6028886dcf",
   "metadata": {},
   "source": [
    "## Delete Course"
   ]
  },
  {
   "cell_type": "code",
   "execution_count": 5,
   "id": "4b144ee5-e139-4a74-bf5a-fee98e73290f",
   "metadata": {
    "tags": [
     "remove-input"
    ]
   },
   "outputs": [
    {
     "data": {
      "application/vnd.jupyter.widget-view+json": {
       "model_id": "72925b02657041c4a17c5c825e5e4957",
       "version_major": 2,
       "version_minor": 0
      },
      "text/plain": [
       "Output()"
      ]
     },
     "metadata": {},
     "output_type": "display_data"
    },
    {
     "data": {
      "application/vnd.jupyter.widget-view+json": {
       "model_id": "0cae991aa24143bbba5a1a4a658fe22f",
       "version_major": 2,
       "version_minor": 0
      },
      "text/plain": [
       "Dropdown(description='Course Title:', options=('', 'Test 101', 'SP400', 'Data Science 101', 'test101', 'SS'), …"
      ]
     },
     "metadata": {},
     "output_type": "display_data"
    },
    {
     "data": {
      "application/vnd.jupyter.widget-view+json": {
       "model_id": "4e0dda0df22d44cdafcd54babfc6eace",
       "version_major": 2,
       "version_minor": 0
      },
      "text/plain": [
       "Button(description='Delete', style=ButtonStyle())"
      ]
     },
     "metadata": {},
     "output_type": "display_data"
    },
    {
     "data": {
      "application/vnd.jupyter.widget-view+json": {
       "model_id": "9a6ff89cf81d45a4a85338c559af7ae7",
       "version_major": 2,
       "version_minor": 0
      },
      "text/plain": [
       "HTML(value='')"
      ]
     },
     "metadata": {},
     "output_type": "display_data"
    }
   ],
   "source": [
    "DeleteCourseUI(db=db).display()"
   ]
  },
  {
   "cell_type": "markdown",
   "id": "beaf71b0-21fc-4055-a02a-39e45affb972",
   "metadata": {},
   "source": [
    "## Review Froms\n",
    "Assign forms to review to the proper course"
   ]
  },
  {
   "cell_type": "code",
   "execution_count": 6,
   "id": "db52153c-1dbe-42d1-a285-c4a2478803d6",
   "metadata": {
    "tags": [
     "remove-input"
    ]
   },
   "outputs": [
    {
     "data": {
      "application/vnd.jupyter.widget-view+json": {
       "model_id": "136ab3058b82425199caf9d9e9de852e",
       "version_major": 2,
       "version_minor": 0
      },
      "text/plain": [
       "Output()"
      ]
     },
     "metadata": {},
     "output_type": "display_data"
    },
    {
     "data": {
      "application/vnd.jupyter.widget-view+json": {
       "model_id": "8f392acc7dfb46c2aae1977991db78cf",
       "version_major": 2,
       "version_minor": 0
      },
      "text/plain": [
       "Dropdown(description='Course Title:', options=('', 'Test 101', 'SP400', 'Data Science 101', 'test101', 'SS'), …"
      ]
     },
     "metadata": {},
     "output_type": "display_data"
    },
    {
     "data": {
      "application/vnd.jupyter.widget-view+json": {
       "model_id": "fcb420d0de1f498094fd78e878a984eb",
       "version_major": 2,
       "version_minor": 0
      },
      "text/plain": [
       "Dropdown(description='To Review:', options=('',), value='')"
      ]
     },
     "metadata": {},
     "output_type": "display_data"
    },
    {
     "data": {
      "application/vnd.jupyter.widget-view+json": {
       "model_id": "fe76d682405b4786b10ee1ac5db5c97c",
       "version_major": 2,
       "version_minor": 0
      },
      "text/plain": [
       "Button(description='Submit', style=ButtonStyle())"
      ]
     },
     "metadata": {},
     "output_type": "display_data"
    },
    {
     "data": {
      "application/vnd.jupyter.widget-view+json": {
       "model_id": "dfc526e875dc4528ab5f5694af251c35",
       "version_major": 2,
       "version_minor": 0
      },
      "text/plain": [
       "HTML(value='')"
      ]
     },
     "metadata": {},
     "output_type": "display_data"
    }
   ],
   "source": [
    "ReviewFormsUI(db=db).display()"
   ]
  },
  {
   "cell_type": "code",
   "execution_count": 1,
   "id": "7d61512b-6f93-4ee8-ad0a-85f7935ff5e2",
   "metadata": {
    "tags": [
     "remove-input"
    ]
   },
   "outputs": [],
   "source": [
    "# Show Data\n",
    "# xlsx = XLSXDoc(db=db)\n",
    "# xlsx.regenerate()\n",
    "# wb, ws = xlsx.get_wb_ws()\n",
    "# xlsx.show_df()"
   ]
  }
 ],
 "metadata": {
  "celltoolbar": "Edit Metadata",
  "kernelspec": {
   "display_name": "f101_auto",
   "language": "python",
   "name": "f101_auto"
  },
  "language_info": {
   "codemirror_mode": {
    "name": "ipython",
    "version": 3
   },
   "file_extension": ".py",
   "mimetype": "text/x-python",
   "name": "python",
   "nbconvert_exporter": "python",
   "pygments_lexer": "ipython3",
   "version": "3.9.6"
  }
 },
 "nbformat": 4,
 "nbformat_minor": 5
}
