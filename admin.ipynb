{
 "cells": [
  {
   "cell_type": "code",
   "execution_count": 1,
   "id": "1f6c256f-db9e-4f72-8479-62c9f001fe92",
   "metadata": {
    "tags": [
     "remove-input"
    ]
   },
   "outputs": [],
   "source": [
    "%reload_ext autoreload\n",
    "%autoreload 2\n",
    "%matplotlib inline\n",
    "\n",
    "import pandas as pd\n",
    "import os\n",
    "import sys\n",
    "from docx import Document\n",
    "from pathlib import Path\n",
    "from nbdev.showdoc import doc\n",
    "import ipywidgets as widgets\n",
    "from ipywidgets import interact, fixed, FileUpload\n",
    "import numpy as np\n",
    "import xlsxwriter\n",
    "from openpyxl import Workbook\n",
    "from openpyxl import load_workbook\n",
    "from IPython.display import display\n",
    "from ipywidgets import HTML\n",
    "from functools import partial\n",
    "import openpyxl\n",
    "from tempfile import NamedTemporaryFile\n",
    "import base64\n",
    "from copy import copy\n",
    "import threading\n",
    "import time\n",
    "\n",
    "# custom\n",
    "# from f101_scripts import *\n",
    "from utils import *\n",
    "from widget_ui import *\n",
    "from xlsx_document import *\n",
    "from database import *\n",
    "\n",
    "db = DB()\n",
    "db.start_poll()"
   ]
  },
  {
   "cell_type": "markdown",
   "id": "fd4f37ad-a674-436f-819e-ddf821136946",
   "metadata": {},
   "source": [
    "## Download Excel"
   ]
  },
  {
   "cell_type": "code",
   "execution_count": 2,
   "id": "9bee7969-c22b-41a2-8207-028af89523e0",
   "metadata": {
    "tags": [
     "remove-input"
    ]
   },
   "outputs": [
    {
     "data": {
      "application/vnd.jupyter.widget-view+json": {
       "model_id": "38af1761af67431db38bbb649d7925bc",
       "version_major": 2,
       "version_minor": 0
      },
      "text/plain": [
       "Output()"
      ]
     },
     "metadata": {},
     "output_type": "display_data"
    },
    {
     "data": {
      "application/vnd.jupyter.widget-view+json": {
       "model_id": "72b6dff904ed42baaa1fc8879330d8c5",
       "version_major": 2,
       "version_minor": 0
      },
      "text/plain": [
       "HTML(value='<html>\\n        <head>\\n        <meta name=\"viewport\" content=\"width=device-width, initial-scale=1…"
      ]
     },
     "metadata": {},
     "output_type": "display_data"
    }
   ],
   "source": [
    "DownloadButton(db=db).display()"
   ]
  },
  {
   "cell_type": "markdown",
   "id": "c8fbe388-4141-48ec-a670-a0074a2609f0",
   "metadata": {
    "tags": []
   },
   "source": [
    "## Upload Excel Template"
   ]
  },
  {
   "cell_type": "code",
   "execution_count": 3,
   "id": "8826919f-a1f6-49d4-b696-ae18f50396f9",
   "metadata": {
    "tags": [
     "remove-input"
    ]
   },
   "outputs": [
    {
     "data": {
      "application/vnd.jupyter.widget-view+json": {
       "model_id": "a9b914c0e0ec466db7f955a6f5bad253",
       "version_major": 2,
       "version_minor": 0
      },
      "text/plain": [
       "Output()"
      ]
     },
     "metadata": {},
     "output_type": "display_data"
    },
    {
     "data": {
      "application/vnd.jupyter.widget-view+json": {
       "model_id": "8f6d1394c4bd492ebe1daf2134074069",
       "version_major": 2,
       "version_minor": 0
      },
      "text/plain": [
       "FileUpload(value={}, accept='.xlsx', description='Upload')"
      ]
     },
     "metadata": {},
     "output_type": "display_data"
    },
    {
     "data": {
      "application/vnd.jupyter.widget-view+json": {
       "model_id": "93547e70d94d4e89b8ed72f4306d5eb9",
       "version_major": 2,
       "version_minor": 0
      },
      "text/plain": [
       "Button(description='Submit', style=ButtonStyle())"
      ]
     },
     "metadata": {},
     "output_type": "display_data"
    },
    {
     "data": {
      "application/vnd.jupyter.widget-view+json": {
       "model_id": "6c9e14950018479694332b9c33a56634",
       "version_major": 2,
       "version_minor": 0
      },
      "text/plain": [
       "HTML(value='')"
      ]
     },
     "metadata": {},
     "output_type": "display_data"
    }
   ],
   "source": [
    "UploadButton(db=db).display()"
   ]
  },
  {
   "cell_type": "markdown",
   "id": "d32bfa36-d05b-4d11-b505-23015ef0260d",
   "metadata": {},
   "source": [
    "## Add course"
   ]
  },
  {
   "cell_type": "code",
   "execution_count": 4,
   "id": "7eddf92a-2ca5-4226-b950-6438ffb17325",
   "metadata": {
    "tags": [
     "remove-input"
    ]
   },
   "outputs": [
    {
     "data": {
      "application/vnd.jupyter.widget-view+json": {
       "model_id": "38821967d8024027b32c6ba6f78b4d1b",
       "version_major": 2,
       "version_minor": 0
      },
      "text/plain": [
       "Output()"
      ]
     },
     "metadata": {},
     "output_type": "display_data"
    },
    {
     "data": {
      "application/vnd.jupyter.widget-view+json": {
       "model_id": "f97db7367a774026811a1a29c76bf022",
       "version_major": 2,
       "version_minor": 0
      },
      "text/plain": [
       "Text(value='', description='New Course', placeholder='New Course Name')"
      ]
     },
     "metadata": {},
     "output_type": "display_data"
    },
    {
     "data": {
      "application/vnd.jupyter.widget-view+json": {
       "model_id": "2adc5763fbb64ed7baf637ab9fbf55e2",
       "version_major": 2,
       "version_minor": 0
      },
      "text/plain": [
       "Button(description='Submit', style=ButtonStyle())"
      ]
     },
     "metadata": {},
     "output_type": "display_data"
    },
    {
     "data": {
      "application/vnd.jupyter.widget-view+json": {
       "model_id": "3bfc5be902a94e8cbde6b13ee3dab0a2",
       "version_major": 2,
       "version_minor": 0
      },
      "text/plain": [
       "HTML(value='')"
      ]
     },
     "metadata": {},
     "output_type": "display_data"
    }
   ],
   "source": [
    "AddCourseUI(db=db).display()"
   ]
  },
  {
   "cell_type": "markdown",
   "id": "c351b6d5-2656-43df-a151-5d6028886dcf",
   "metadata": {},
   "source": [
    "## Delete Course"
   ]
  },
  {
   "cell_type": "code",
   "execution_count": 5,
   "id": "4b144ee5-e139-4a74-bf5a-fee98e73290f",
   "metadata": {
    "tags": [
     "remove-input"
    ]
   },
   "outputs": [
    {
     "data": {
      "application/vnd.jupyter.widget-view+json": {
       "model_id": "ac85742dc26744e699e3750be0974cf2",
       "version_major": 2,
       "version_minor": 0
      },
      "text/plain": [
       "Output()"
      ]
     },
     "metadata": {},
     "output_type": "display_data"
    },
    {
     "data": {
      "application/vnd.jupyter.widget-view+json": {
       "model_id": "f11d464739eb482b87bc7e14aa406eb0",
       "version_major": 2,
       "version_minor": 0
      },
      "text/plain": [
       "Dropdown(description='Course Title:', options=('', 'Test 101', 'SP400', 'Data Science 101'), value='')"
      ]
     },
     "metadata": {},
     "output_type": "display_data"
    },
    {
     "data": {
      "application/vnd.jupyter.widget-view+json": {
       "model_id": "a651f9b105e44d6db044253dd8341753",
       "version_major": 2,
       "version_minor": 0
      },
      "text/plain": [
       "Button(description='Delete', style=ButtonStyle())"
      ]
     },
     "metadata": {},
     "output_type": "display_data"
    },
    {
     "data": {
      "application/vnd.jupyter.widget-view+json": {
       "model_id": "6f05573d817a43fba9208288713cebba",
       "version_major": 2,
       "version_minor": 0
      },
      "text/plain": [
       "HTML(value='')"
      ]
     },
     "metadata": {},
     "output_type": "display_data"
    }
   ],
   "source": [
    "DeleteCourseUI(db=db).display()"
   ]
  },
  {
   "cell_type": "markdown",
   "id": "beaf71b0-21fc-4055-a02a-39e45affb972",
   "metadata": {},
   "source": [
    "## Review Froms\n",
    "Assign forms to review to the proper course"
   ]
  },
  {
   "cell_type": "code",
   "execution_count": 6,
   "id": "db52153c-1dbe-42d1-a285-c4a2478803d6",
   "metadata": {
    "tags": [
     "remove-input"
    ]
   },
   "outputs": [
    {
     "data": {
      "application/vnd.jupyter.widget-view+json": {
       "model_id": "e086b1ac59764b07a6621d3a6474c4e2",
       "version_major": 2,
       "version_minor": 0
      },
      "text/plain": [
       "Output()"
      ]
     },
     "metadata": {},
     "output_type": "display_data"
    },
    {
     "data": {
      "application/vnd.jupyter.widget-view+json": {
       "model_id": "57fa28a78bf84d1894f6004f2f915bf0",
       "version_major": 2,
       "version_minor": 0
      },
      "text/plain": [
       "Dropdown(description='Course Title:', options=('', 'Test 101', 'SP400', 'Data Science 101'), value='')"
      ]
     },
     "metadata": {},
     "output_type": "display_data"
    },
    {
     "data": {
      "application/vnd.jupyter.widget-view+json": {
       "model_id": "22a5e3dde2424aea95708fccbf87df4d",
       "version_major": 2,
       "version_minor": 0
      },
      "text/plain": [
       "Dropdown(description='To Review:', options=('',), value='')"
      ]
     },
     "metadata": {},
     "output_type": "display_data"
    },
    {
     "data": {
      "application/vnd.jupyter.widget-view+json": {
       "model_id": "3434141b04b545fe819027594ff70fb2",
       "version_major": 2,
       "version_minor": 0
      },
      "text/plain": [
       "Button(description='Submit', style=ButtonStyle())"
      ]
     },
     "metadata": {},
     "output_type": "display_data"
    },
    {
     "data": {
      "application/vnd.jupyter.widget-view+json": {
       "model_id": "2ed0ea06b58e47409eb3e4ae84b20df1",
       "version_major": 2,
       "version_minor": 0
      },
      "text/plain": [
       "HTML(value='')"
      ]
     },
     "metadata": {},
     "output_type": "display_data"
    }
   ],
   "source": [
    "ReviewFormsUI(db=db).display()"
   ]
  },
  {
   "cell_type": "markdown",
   "id": "e04eea1d-5338-4af0-9db4-8416fefdcb70",
   "metadata": {},
   "source": [
    "## Show data"
   ]
  },
  {
   "cell_type": "code",
   "execution_count": 8,
   "id": "7d61512b-6f93-4ee8-ad0a-85f7935ff5e2",
   "metadata": {
    "tags": [
     "remove-input"
    ]
   },
   "outputs": [
    {
     "data": {
      "text/html": [
       "<div>\n",
       "<style scoped>\n",
       "    .dataframe tbody tr th:only-of-type {\n",
       "        vertical-align: middle;\n",
       "    }\n",
       "\n",
       "    .dataframe tbody tr th {\n",
       "        vertical-align: top;\n",
       "    }\n",
       "\n",
       "    .dataframe thead th {\n",
       "        text-align: right;\n",
       "    }\n",
       "</style>\n",
       "<table border=\"1\" class=\"dataframe\">\n",
       "  <thead>\n",
       "    <tr style=\"text-align: right;\">\n",
       "      <th></th>\n",
       "      <th>1</th>\n",
       "      <th>2</th>\n",
       "      <th>3</th>\n",
       "      <th>4</th>\n",
       "    </tr>\n",
       "    <tr>\n",
       "      <th>0</th>\n",
       "      <th></th>\n",
       "      <th></th>\n",
       "      <th></th>\n",
       "      <th></th>\n",
       "    </tr>\n",
       "  </thead>\n",
       "  <tbody>\n",
       "    <tr>\n",
       "      <th>Provided courses 2020-2021</th>\n",
       "      <td>None</td>\n",
       "      <td>None</td>\n",
       "      <td>None</td>\n",
       "      <td>None</td>\n",
       "    </tr>\n",
       "    <tr>\n",
       "      <th>for each course is reported the average of the opinions expressed with rating from 0 to 5</th>\n",
       "      <td>None</td>\n",
       "      <td>None</td>\n",
       "      <td>None</td>\n",
       "      <td>None</td>\n",
       "    </tr>\n",
       "    <tr>\n",
       "      <th>HR4</th>\n",
       "      <td>Test 101</td>\n",
       "      <td>SP400</td>\n",
       "      <td>Data Science 101</td>\n",
       "      <td>test101</td>\n",
       "    </tr>\n",
       "    <tr>\n",
       "      <th>antonio delle canne</th>\n",
       "      <td>5</td>\n",
       "      <td>None</td>\n",
       "      <td>None</td>\n",
       "      <td>None</td>\n",
       "    </tr>\n",
       "    <tr>\n",
       "      <th>michael whittle</th>\n",
       "      <td>None</td>\n",
       "      <td>None</td>\n",
       "      <td>5</td>\n",
       "      <td>None</td>\n",
       "    </tr>\n",
       "    <tr>\n",
       "      <th>andrew randle</th>\n",
       "      <td>None</td>\n",
       "      <td>None</td>\n",
       "      <td>5</td>\n",
       "      <td>None</td>\n",
       "    </tr>\n",
       "    <tr>\n",
       "      <th>an dc</th>\n",
       "      <td>None</td>\n",
       "      <td>None</td>\n",
       "      <td>None</td>\n",
       "      <td>5</td>\n",
       "    </tr>\n",
       "    <tr>\n",
       "      <th>Course average rating</th>\n",
       "      <td>=IF(ISERROR(AVERAGE(B4:B7)) = TRUE, \"\", AVERAG...</td>\n",
       "      <td>=IF(ISERROR(AVERAGE(C4:C7)) = TRUE, \"\", AVERAG...</td>\n",
       "      <td>=IF(ISERROR(AVERAGE(D4:D7)) = TRUE, \"\", AVERAG...</td>\n",
       "      <td>=IF(ISERROR(AVERAGE(E4:E7)) = TRUE, \"\", AVERAG...</td>\n",
       "    </tr>\n",
       "    <tr>\n",
       "      <th>General Notes on the effectiveness of the course</th>\n",
       "      <td>docx/Test 101 - antonio delle canne.docx</td>\n",
       "      <td>None</td>\n",
       "      <td>docx/Data Science 101 - michael whittle.docx ;...</td>\n",
       "      <td>docx/test101 - an dc.docx</td>\n",
       "    </tr>\n",
       "    <tr>\n",
       "      <th>NaN</th>\n",
       "      <td>None</td>\n",
       "      <td>None</td>\n",
       "      <td>None</td>\n",
       "      <td>None</td>\n",
       "    </tr>\n",
       "    <tr>\n",
       "      <th>HR3</th>\n",
       "      <td>None</td>\n",
       "      <td>None</td>\n",
       "      <td>None</td>\n",
       "      <td>None</td>\n",
       "    </tr>\n",
       "    <tr>\n",
       "      <th>provided courses (nr.)</th>\n",
       "      <td>=20-COUNTIFS(3:3, \"Column*\")</td>\n",
       "      <td>None</td>\n",
       "      <td>None</td>\n",
       "      <td>None</td>\n",
       "    </tr>\n",
       "    <tr>\n",
       "      <th>Number of people affected</th>\n",
       "      <td>=COUNTA(Tabella2[HR4])</td>\n",
       "      <td>None</td>\n",
       "      <td>None</td>\n",
       "      <td>None</td>\n",
       "    </tr>\n",
       "    <tr>\n",
       "      <th>Number of employees</th>\n",
       "      <td>33</td>\n",
       "      <td>* taken as the current total</td>\n",
       "      <td>None</td>\n",
       "      <td>None</td>\n",
       "    </tr>\n",
       "    <tr>\n",
       "      <th>NaN</th>\n",
       "      <td>None</td>\n",
       "      <td>None</td>\n",
       "      <td>None</td>\n",
       "      <td>None</td>\n",
       "    </tr>\n",
       "    <tr>\n",
       "      <th>Summary 2020</th>\n",
       "      <td>Indexes</td>\n",
       "      <td>Threshold</td>\n",
       "      <td>None</td>\n",
       "      <td>None</td>\n",
       "    </tr>\n",
       "    <tr>\n",
       "      <th>HR3 - coverage of staff</th>\n",
       "      <td>=B15/B16</td>\n",
       "      <td>None</td>\n",
       "      <td>None</td>\n",
       "      <td>None</td>\n",
       "    </tr>\n",
       "    <tr>\n",
       "      <th>HR4 - overall satisfaction</th>\n",
       "      <td>=AVERAGE(B10:R10)</td>\n",
       "      <td>None</td>\n",
       "      <td>None</td>\n",
       "      <td>None</td>\n",
       "    </tr>\n",
       "  </tbody>\n",
       "</table>\n",
       "</div>"
      ],
      "text/plain": [
       "                                                                                                    1  \\\n",
       "0                                                                                                       \n",
       "Provided courses 2020-2021                                                                       None   \n",
       "for each course is reported the average of the ...                                               None   \n",
       "HR4                                                                                          Test 101   \n",
       "antonio delle canne                                                                                 5   \n",
       "michael whittle                                                                                  None   \n",
       "andrew randle                                                                                    None   \n",
       "an dc                                                                                            None   \n",
       "Course average rating                               =IF(ISERROR(AVERAGE(B4:B7)) = TRUE, \"\", AVERAG...   \n",
       "General Notes on the effectiveness of the course             docx/Test 101 - antonio delle canne.docx   \n",
       "NaN                                                                                              None   \n",
       "HR3                                                                                              None   \n",
       "provided courses (nr.)                                                   =20-COUNTIFS(3:3, \"Column*\")   \n",
       "Number of people affected                                                      =COUNTA(Tabella2[HR4])   \n",
       "Number of employees                                                                                33   \n",
       "NaN                                                                                              None   \n",
       "Summary 2020                                                                                  Indexes   \n",
       "HR3 - coverage of staff                                                                      =B15/B16   \n",
       "HR4 - overall satisfaction                                                          =AVERAGE(B10:R10)   \n",
       "\n",
       "                                                                                                    2  \\\n",
       "0                                                                                                       \n",
       "Provided courses 2020-2021                                                                       None   \n",
       "for each course is reported the average of the ...                                               None   \n",
       "HR4                                                                                             SP400   \n",
       "antonio delle canne                                                                              None   \n",
       "michael whittle                                                                                  None   \n",
       "andrew randle                                                                                    None   \n",
       "an dc                                                                                            None   \n",
       "Course average rating                               =IF(ISERROR(AVERAGE(C4:C7)) = TRUE, \"\", AVERAG...   \n",
       "General Notes on the effectiveness of the course                                                 None   \n",
       "NaN                                                                                              None   \n",
       "HR3                                                                                              None   \n",
       "provided courses (nr.)                                                                           None   \n",
       "Number of people affected                                                                        None   \n",
       "Number of employees                                                      * taken as the current total   \n",
       "NaN                                                                                              None   \n",
       "Summary 2020                                                                                Threshold   \n",
       "HR3 - coverage of staff                                                                          None   \n",
       "HR4 - overall satisfaction                                                                       None   \n",
       "\n",
       "                                                                                                    3  \\\n",
       "0                                                                                                       \n",
       "Provided courses 2020-2021                                                                       None   \n",
       "for each course is reported the average of the ...                                               None   \n",
       "HR4                                                                                  Data Science 101   \n",
       "antonio delle canne                                                                              None   \n",
       "michael whittle                                                                                     5   \n",
       "andrew randle                                                                                       5   \n",
       "an dc                                                                                            None   \n",
       "Course average rating                               =IF(ISERROR(AVERAGE(D4:D7)) = TRUE, \"\", AVERAG...   \n",
       "General Notes on the effectiveness of the course    docx/Data Science 101 - michael whittle.docx ;...   \n",
       "NaN                                                                                              None   \n",
       "HR3                                                                                              None   \n",
       "provided courses (nr.)                                                                           None   \n",
       "Number of people affected                                                                        None   \n",
       "Number of employees                                                                              None   \n",
       "NaN                                                                                              None   \n",
       "Summary 2020                                                                                     None   \n",
       "HR3 - coverage of staff                                                                          None   \n",
       "HR4 - overall satisfaction                                                                       None   \n",
       "\n",
       "                                                                                                    4  \n",
       "0                                                                                                      \n",
       "Provided courses 2020-2021                                                                       None  \n",
       "for each course is reported the average of the ...                                               None  \n",
       "HR4                                                                                           test101  \n",
       "antonio delle canne                                                                              None  \n",
       "michael whittle                                                                                  None  \n",
       "andrew randle                                                                                    None  \n",
       "an dc                                                                                               5  \n",
       "Course average rating                               =IF(ISERROR(AVERAGE(E4:E7)) = TRUE, \"\", AVERAG...  \n",
       "General Notes on the effectiveness of the course                            docx/test101 - an dc.docx  \n",
       "NaN                                                                                              None  \n",
       "HR3                                                                                              None  \n",
       "provided courses (nr.)                                                                           None  \n",
       "Number of people affected                                                                        None  \n",
       "Number of employees                                                                              None  \n",
       "NaN                                                                                              None  \n",
       "Summary 2020                                                                                     None  \n",
       "HR3 - coverage of staff                                                                          None  \n",
       "HR4 - overall satisfaction                                                                       None  "
      ]
     },
     "metadata": {},
     "output_type": "display_data"
    }
   ],
   "source": [
    "xlsx = XLSXDoc(db=db)\n",
    "xlsx.regenerate()\n",
    "wb, ws = xlsx.get_wb_ws()\n",
    "xlsx.show_df()"
   ]
  }
 ],
 "metadata": {
  "kernelspec": {
   "display_name": "f101_auto",
   "language": "python",
   "name": "f101_auto"
  },
  "language_info": {
   "codemirror_mode": {
    "name": "ipython",
    "version": 3
   },
   "file_extension": ".py",
   "mimetype": "text/x-python",
   "name": "python",
   "nbconvert_exporter": "python",
   "pygments_lexer": "ipython3",
   "version": "3.9.6"
  }
 },
 "nbformat": 4,
 "nbformat_minor": 5
}
